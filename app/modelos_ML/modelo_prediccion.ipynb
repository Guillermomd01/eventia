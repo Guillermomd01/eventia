{
 "cells": [
  {
   "cell_type": "code",
   "execution_count": null,
   "id": "e2203aa6",
   "metadata": {},
   "outputs": [
    {
     "name": "stderr",
     "output_type": "stream",
     "text": [
      "c:\\Users\\Guillermo\\Desktop\\Agencia_IA\\venv\\Lib\\site-packages\\tqdm\\auto.py:21: TqdmWarning: IProgress not found. Please update jupyter and ipywidgets. See https://ipywidgets.readthedocs.io/en/stable/user_install.html\n",
      "  from .autonotebook import tqdm as notebook_tqdm\n",
      "Importing plotly failed. Interactive plots will not work.\n"
     ]
    }
   ],
   "source": [
    "import pandas as pd\n",
    "from sklearn.feature_extraction.text import TfidfVectorizer\n",
    "from sklearn.model_selection import train_test_split\n",
    "from sklearn.linear_model import LinearRegression\n",
    "from sklearn.model_selection import train_test_split\n",
    "from sklearn.metrics import accuracy_score\n",
    "import joblib\n",
    "from prophet import Prophet\n"
   ]
  },
  {
   "cell_type": "code",
   "execution_count": 34,
   "id": "5723ffd3",
   "metadata": {},
   "outputs": [],
   "source": [
    "df = pd.read_csv(\"../dataset/sales.csv\")"
   ]
  },
  {
   "cell_type": "code",
   "execution_count": 52,
   "id": "3e81982c",
   "metadata": {},
   "outputs": [
    {
     "data": {
      "text/plain": [
       "Index(['fecha', 'ventas_totales', 'num_clientes', 'promociones', 'temporada'], dtype='object')"
      ]
     },
     "execution_count": 52,
     "metadata": {},
     "output_type": "execute_result"
    }
   ],
   "source": [
    "df.columns"
   ]
  },
  {
   "cell_type": "code",
   "execution_count": 49,
   "id": "b22859ba",
   "metadata": {},
   "outputs": [
    {
     "name": "stderr",
     "output_type": "stream",
     "text": [
      "19:10:43 - cmdstanpy - INFO - Chain [1] start processing\n",
      "19:10:43 - cmdstanpy - INFO - Chain [1] done processing\n",
      "c:\\Users\\Guillermo\\Desktop\\Agencia_IA\\venv\\Lib\\site-packages\\prophet\\forecaster.py:1854: FutureWarning: 'M' is deprecated and will be removed in a future version, please use 'ME' instead.\n",
      "  dates = pd.date_range(\n"
     ]
    },
    {
     "data": {
      "text/html": [
       "<div>\n",
       "<style scoped>\n",
       "    .dataframe tbody tr th:only-of-type {\n",
       "        vertical-align: middle;\n",
       "    }\n",
       "\n",
       "    .dataframe tbody tr th {\n",
       "        vertical-align: top;\n",
       "    }\n",
       "\n",
       "    .dataframe thead th {\n",
       "        text-align: right;\n",
       "    }\n",
       "</style>\n",
       "<table border=\"1\" class=\"dataframe\">\n",
       "  <thead>\n",
       "    <tr style=\"text-align: right;\">\n",
       "      <th></th>\n",
       "      <th>ds</th>\n",
       "      <th>trend</th>\n",
       "      <th>yhat_lower</th>\n",
       "      <th>yhat_upper</th>\n",
       "      <th>trend_lower</th>\n",
       "      <th>trend_upper</th>\n",
       "      <th>additive_terms</th>\n",
       "      <th>additive_terms_lower</th>\n",
       "      <th>additive_terms_upper</th>\n",
       "      <th>yearly</th>\n",
       "      <th>yearly_lower</th>\n",
       "      <th>yearly_upper</th>\n",
       "      <th>multiplicative_terms</th>\n",
       "      <th>multiplicative_terms_lower</th>\n",
       "      <th>multiplicative_terms_upper</th>\n",
       "      <th>yhat</th>\n",
       "    </tr>\n",
       "  </thead>\n",
       "  <tbody>\n",
       "    <tr>\n",
       "      <th>0</th>\n",
       "      <td>2018-01-01</td>\n",
       "      <td>20446.714210</td>\n",
       "      <td>14767.389229</td>\n",
       "      <td>18309.598296</td>\n",
       "      <td>20446.714210</td>\n",
       "      <td>20446.714210</td>\n",
       "      <td>-3934.719490</td>\n",
       "      <td>-3934.719490</td>\n",
       "      <td>-3934.719490</td>\n",
       "      <td>-3934.719490</td>\n",
       "      <td>-3934.719490</td>\n",
       "      <td>-3934.719490</td>\n",
       "      <td>0.0</td>\n",
       "      <td>0.0</td>\n",
       "      <td>0.0</td>\n",
       "      <td>16511.994720</td>\n",
       "    </tr>\n",
       "    <tr>\n",
       "      <th>1</th>\n",
       "      <td>2018-02-01</td>\n",
       "      <td>20448.352722</td>\n",
       "      <td>14353.736182</td>\n",
       "      <td>17992.682343</td>\n",
       "      <td>20448.352722</td>\n",
       "      <td>20448.352722</td>\n",
       "      <td>-4331.140110</td>\n",
       "      <td>-4331.140110</td>\n",
       "      <td>-4331.140110</td>\n",
       "      <td>-4331.140110</td>\n",
       "      <td>-4331.140110</td>\n",
       "      <td>-4331.140110</td>\n",
       "      <td>0.0</td>\n",
       "      <td>0.0</td>\n",
       "      <td>0.0</td>\n",
       "      <td>16117.212612</td>\n",
       "    </tr>\n",
       "    <tr>\n",
       "      <th>2</th>\n",
       "      <td>2018-03-01</td>\n",
       "      <td>20449.832668</td>\n",
       "      <td>15495.638121</td>\n",
       "      <td>19037.144635</td>\n",
       "      <td>20449.832668</td>\n",
       "      <td>20449.832668</td>\n",
       "      <td>-3228.727083</td>\n",
       "      <td>-3228.727083</td>\n",
       "      <td>-3228.727083</td>\n",
       "      <td>-3228.727083</td>\n",
       "      <td>-3228.727083</td>\n",
       "      <td>-3228.727083</td>\n",
       "      <td>0.0</td>\n",
       "      <td>0.0</td>\n",
       "      <td>0.0</td>\n",
       "      <td>17221.105585</td>\n",
       "    </tr>\n",
       "    <tr>\n",
       "      <th>3</th>\n",
       "      <td>2018-04-01</td>\n",
       "      <td>20451.471179</td>\n",
       "      <td>16602.856202</td>\n",
       "      <td>20073.623793</td>\n",
       "      <td>20451.471179</td>\n",
       "      <td>20451.471179</td>\n",
       "      <td>-2040.679873</td>\n",
       "      <td>-2040.679873</td>\n",
       "      <td>-2040.679873</td>\n",
       "      <td>-2040.679873</td>\n",
       "      <td>-2040.679873</td>\n",
       "      <td>-2040.679873</td>\n",
       "      <td>0.0</td>\n",
       "      <td>0.0</td>\n",
       "      <td>0.0</td>\n",
       "      <td>18410.791306</td>\n",
       "    </tr>\n",
       "    <tr>\n",
       "      <th>4</th>\n",
       "      <td>2018-05-01</td>\n",
       "      <td>20453.056835</td>\n",
       "      <td>18020.058245</td>\n",
       "      <td>21539.985513</td>\n",
       "      <td>20453.056835</td>\n",
       "      <td>20453.056835</td>\n",
       "      <td>-732.188544</td>\n",
       "      <td>-732.188544</td>\n",
       "      <td>-732.188544</td>\n",
       "      <td>-732.188544</td>\n",
       "      <td>-732.188544</td>\n",
       "      <td>-732.188544</td>\n",
       "      <td>0.0</td>\n",
       "      <td>0.0</td>\n",
       "      <td>0.0</td>\n",
       "      <td>19720.868291</td>\n",
       "    </tr>\n",
       "  </tbody>\n",
       "</table>\n",
       "</div>"
      ],
      "text/plain": [
       "          ds         trend    yhat_lower    yhat_upper   trend_lower  \\\n",
       "0 2018-01-01  20446.714210  14767.389229  18309.598296  20446.714210   \n",
       "1 2018-02-01  20448.352722  14353.736182  17992.682343  20448.352722   \n",
       "2 2018-03-01  20449.832668  15495.638121  19037.144635  20449.832668   \n",
       "3 2018-04-01  20451.471179  16602.856202  20073.623793  20451.471179   \n",
       "4 2018-05-01  20453.056835  18020.058245  21539.985513  20453.056835   \n",
       "\n",
       "    trend_upper  additive_terms  additive_terms_lower  additive_terms_upper  \\\n",
       "0  20446.714210    -3934.719490          -3934.719490          -3934.719490   \n",
       "1  20448.352722    -4331.140110          -4331.140110          -4331.140110   \n",
       "2  20449.832668    -3228.727083          -3228.727083          -3228.727083   \n",
       "3  20451.471179    -2040.679873          -2040.679873          -2040.679873   \n",
       "4  20453.056835     -732.188544           -732.188544           -732.188544   \n",
       "\n",
       "        yearly  yearly_lower  yearly_upper  multiplicative_terms  \\\n",
       "0 -3934.719490  -3934.719490  -3934.719490                   0.0   \n",
       "1 -4331.140110  -4331.140110  -4331.140110                   0.0   \n",
       "2 -3228.727083  -3228.727083  -3228.727083                   0.0   \n",
       "3 -2040.679873  -2040.679873  -2040.679873                   0.0   \n",
       "4  -732.188544   -732.188544   -732.188544                   0.0   \n",
       "\n",
       "   multiplicative_terms_lower  multiplicative_terms_upper          yhat  \n",
       "0                         0.0                         0.0  16511.994720  \n",
       "1                         0.0                         0.0  16117.212612  \n",
       "2                         0.0                         0.0  17221.105585  \n",
       "3                         0.0                         0.0  18410.791306  \n",
       "4                         0.0                         0.0  19720.868291  "
      ]
     },
     "execution_count": 49,
     "metadata": {},
     "output_type": "execute_result"
    }
   ],
   "source": [
    "#entrenamos el modelo prophet\n",
    "\n",
    "df_prophet = df[['fecha','ventas_totales']].rename(columns={'fecha':'ds','ventas_totales':'y'})\n",
    "\n",
    "model_prophet = Prophet(yearly_seasonality= True)\n",
    "model_prophet.fit(df_prophet)\n",
    "\n",
    "future = model_prophet.make_future_dataframe(periods=12,freq='M')\n",
    "forecast = model_prophet.predict(future)\n",
    "\n",
    "forecast.head()"
   ]
  },
  {
   "cell_type": "code",
   "execution_count": 61,
   "id": "73f3fc2d",
   "metadata": {},
   "outputs": [
    {
     "name": "stdout",
     "output_type": "stream",
     "text": [
      "2056.4480602054787 2176.4394048237687 0.7146319014557123\n"
     ]
    }
   ],
   "source": [
    "df_real = df_prophet.tail(12)\n",
    "y_pred=forecast.tail(12)['yhat']\n",
    "y_real = df_real['y']\n",
    "from sklearn.metrics import mean_absolute_error, mean_squared_error, r2_score\n",
    "import numpy as np\n",
    "\n",
    "mae = mean_absolute_error(y_real, y_pred)\n",
    "rmse = np.sqrt(mean_squared_error(y_real, y_pred))\n",
    "r2 = r2_score(y_real, y_pred)\n",
    "\n",
    "print(mae,rmse,r2)"
   ]
  },
  {
   "cell_type": "code",
   "execution_count": 62,
   "id": "09979a75",
   "metadata": {},
   "outputs": [
    {
     "name": "stdout",
     "output_type": "stream",
     "text": [
      "0.9985084982153478 123.48485998366863 26268.227346283755\n"
     ]
    }
   ],
   "source": [
    "#entrenamos el modelo de Linear Regression\n",
    "\n",
    "df['mes_num']=range(len(df))\n",
    "X = df[['mes_num','num_clientes', 'promociones', 'temporada']]\n",
    "y = df['ventas_totales']\n",
    "\n",
    "X_train, X_test, y_train, y_test = train_test_split(X,y,random_state=42,test_size=0.2)\n",
    "\n",
    "modelo_linear = LinearRegression()\n",
    "modelo_linear.fit(X_train,y_train)\n",
    "prediccion = modelo_linear.predict(X_test)\n",
    "\n",
    "from sklearn.metrics import mean_absolute_error, mean_squared_error, r2_score\n",
    "\n",
    "precision = r2_score(y_test,prediccion)\n",
    "mae= mean_absolute_error(y_test,prediccion)\n",
    "mse=mean_squared_error(y_test,prediccion)\n",
    "print(precision,mae,mse)"
   ]
  },
  {
   "cell_type": "code",
   "execution_count": 64,
   "id": "8bc7948e",
   "metadata": {},
   "outputs": [
    {
     "data": {
      "text/plain": [
       "['modelo_entrenado_prediccion.pkl']"
      ]
     },
     "execution_count": 64,
     "metadata": {},
     "output_type": "execute_result"
    }
   ],
   "source": [
    "#guardamos el modelo de Linaer Regression\n",
    "joblib.dump(modelo_linear,'modelo_entrenado_prediccion.pkl')\n"
   ]
  }
 ],
 "metadata": {
  "kernelspec": {
   "display_name": "venv",
   "language": "python",
   "name": "python3"
  },
  "language_info": {
   "codemirror_mode": {
    "name": "ipython",
    "version": 3
   },
   "file_extension": ".py",
   "mimetype": "text/x-python",
   "name": "python",
   "nbconvert_exporter": "python",
   "pygments_lexer": "ipython3",
   "version": "3.13.0"
  }
 },
 "nbformat": 4,
 "nbformat_minor": 5
}
